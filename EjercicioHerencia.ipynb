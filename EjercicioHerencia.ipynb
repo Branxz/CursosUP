{
  "nbformat": 4,
  "nbformat_minor": 0,
  "metadata": {
    "colab": {
      "name": "EjercicioHerencia.ipynb",
      "provenance": []
    },
    "kernelspec": {
      "name": "python3",
      "display_name": "Python 3"
    },
    "language_info": {
      "name": "python"
    }
  },
  "cells": [
    {
      "cell_type": "code",
      "execution_count": null,
      "metadata": {
        "id": "U9ZXrPZ3DTIg"
      },
      "outputs": [],
      "source": [
        "class Trabajo:\n",
        "    nombre: str\n",
        "    años: int\n",
        "\n",
        "\n",
        "class Gerente(Trabajo):\n",
        "    def __init__(self,nombre, años):\n",
        "        self.años= años\n",
        "        self.puesto= \"Gerente \" + nombre\n",
        "    def salario(self):\n",
        "        self.sueldoB= 50000\n",
        "        print(\"Salario en MXN\")\n",
        "        print(self.sueldoB) \n",
        "    def trabajo(self):\n",
        "        self.trabajo= \" Gerencia\"\n",
        "        print(self.puesto + self.trabajo)\n",
        "        print(\"Cual quieres que sea el salario extra para el programador?\")\n",
        "        self.salarioGP=0\n",
        "        self.salarioGP = input()\n",
        "        int(self.salarioGP)\n",
        "        return self.salarioGP\n",
        "\n",
        "class Programador(Gerente):\n",
        "    def __init__(self,nombre, años):\n",
        "        self.años= años\n",
        "        self.puesto= \"Programador \" + nombre\n",
        "    def salario(self):\n",
        "        self.sueldoB= 25000\n",
        "        print(\"Salario base en MXN\")\n",
        "        print(self.sueldoB)\n",
        "        self.salconbono = self.sueldoB + 1000*self.años\n",
        "        print(\"Salario con bonos de antigüedad en MXN\")\n",
        "        print(self.salconbono)\n",
        "    def trabajo(self):\n",
        "        self.trabajo= \" Programa\"\n",
        "        print(self.puesto + self.trabajo)\n",
        "\n",
        "class Secretaria(Trabajo):\n",
        "    def __init__(self,nombre, años):\n",
        "        self.años= años\n",
        "        self.puesto= \"Secretaria \" + nombre\n",
        "    def salario(self):\n",
        "        self.sueldoB= 15000\n",
        "        print(\"Salario base en MXN\")\n",
        "        print(self.sueldoB)\n",
        "        self.salconbono = self.sueldoB + 1000*self.años\n",
        "        print(\"Salario con bonos de antigüedad en MXN\")\n",
        "        print(self.salconbono)\n",
        "    def trabajo(self):\n",
        "        self.trabajo= \" Apoya\"\n",
        "        print(self.puesto + self.trabajo)\n"
      ]
    },
    {
      "cell_type": "code",
      "source": [
        "Migue = Gerente(\"Migue\", 0)\n",
        "Migue.salario()\n",
        "Migue.trabajo()\n"
      ],
      "metadata": {
        "colab": {
          "base_uri": "https://localhost:8080/",
          "height": 122
        },
        "id": "CQOBIEsCH6zQ",
        "outputId": "c9553517-e8d7-4ace-ea26-875894b79128"
      },
      "execution_count": null,
      "outputs": [
        {
          "name": "stdout",
          "output_type": "stream",
          "text": [
            "Salario en MXN\n",
            "50000\n",
            "Gerente Migue Gerencia\n",
            "Cual quieres que sea el salario extra para el programador?\n",
            "10\n"
          ]
        },
        {
          "output_type": "execute_result",
          "data": {
            "application/vnd.google.colaboratory.intrinsic+json": {
              "type": "string"
            },
            "text/plain": [
              "'10'"
            ]
          },
          "metadata": {},
          "execution_count": 149
        }
      ]
    },
    {
      "cell_type": "code",
      "source": [
        "branxz = Programador(\"branxz\", 5)\n",
        "branxz.salario()\n",
        "print(\"Salario con total (con extra por el gerente si es que hay)en MXN\") \n",
        "programador = branxz\n",
        "gerente = Migue\n",
        "programador.sueldoB=programador.sueldoB + int(gerente.salarioGP) + 1000*programador.años\n",
        "print(programador.sueldoB)\n",
        "branxz.trabajo()"
      ],
      "metadata": {
        "id": "gaqn14LOJq5Z",
        "colab": {
          "base_uri": "https://localhost:8080/"
        },
        "outputId": "1c4ffdb3-f936-4c56-df6e-b3c8106fcc02"
      },
      "execution_count": null,
      "outputs": [
        {
          "output_type": "stream",
          "name": "stdout",
          "text": [
            "Salario base en MXN\n",
            "25000\n",
            "Salario con bonos de antigüedad en MXN\n",
            "30000\n",
            "Salario con total (con extra por el gerente si es que hay)en MXN\n",
            "30010\n",
            "Programador branxz Programa\n"
          ]
        }
      ]
    },
    {
      "cell_type": "code",
      "source": [
        "Gabo = Secretaria(\"Gabo\", 1)\n",
        "Gabo.salario()\n",
        "Gabo.trabajo()"
      ],
      "metadata": {
        "colab": {
          "base_uri": "https://localhost:8080/"
        },
        "id": "HFW4vdhdrNU8",
        "outputId": "e0d701bf-0715-4ab1-f192-4d30d0bed5d0"
      },
      "execution_count": null,
      "outputs": [
        {
          "output_type": "stream",
          "name": "stdout",
          "text": [
            "Salario base en MXN\n",
            "15000\n",
            "Salario con bonos de antigüedad en MXN\n",
            "16000\n",
            "Secretaria Gabo Apoya\n"
          ]
        }
      ]
    },
    {
      "cell_type": "code",
      "source": [
        ""
      ],
      "metadata": {
        "id": "2bnOqPaG1znz"
      },
      "execution_count": null,
      "outputs": []
    }
  ]
}